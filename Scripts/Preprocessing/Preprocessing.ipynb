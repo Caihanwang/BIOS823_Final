{
 "cells": [
  {
   "cell_type": "code",
   "execution_count": 49,
   "id": "educational-symbol",
   "metadata": {},
   "outputs": [],
   "source": [
    "# Author: Caihan Wang\n",
    "import pandas as pd \n",
    "import numpy as np \n",
    "import glob, os\n",
    "from datetime import datetime"
   ]
  },
  {
   "cell_type": "code",
   "execution_count": 20,
   "id": "essential-economics",
   "metadata": {},
   "outputs": [
    {
     "name": "stdout",
     "output_type": "stream",
     "text": [
      "58\n"
     ]
    }
   ],
   "source": [
    "# Read in all Daily Cases data\n",
    "path_DC = r\"Raw_data/Daily_Cases\"\n",
    "DC_files = glob.glob(os.path.join(path_DC, \"*.csv\"))\n",
    "DC = []\n",
    "for f in DC_files:\n",
    "    DC.append(pd.read_csv(f, header=2))\n",
    "\n",
    "print(len(DC))"
   ]
  },
  {
   "cell_type": "code",
   "execution_count": 21,
   "id": "selected-string",
   "metadata": {},
   "outputs": [
    {
     "name": "stdout",
     "output_type": "stream",
     "text": [
      "58\n"
     ]
    }
   ],
   "source": [
    "# Read in all Daily Deaths data\n",
    "path_DD = r\"Raw_data/Daily_Deaths\"\n",
    "DD_files = glob.glob(os.path.join(path_DD, \"*.csv\"))\n",
    "DD = []\n",
    "for f in DD_files:\n",
    "    DD.append(pd.read_csv(f, header=2))\n",
    "\n",
    "print(len(DD))"
   ]
  },
  {
   "cell_type": "code",
   "execution_count": 36,
   "id": "underlying-permission",
   "metadata": {},
   "outputs": [],
   "source": [
    "# Combine them\n",
    "DCs = pd.concat(DC).sort_values([\"State\", \"Date\"]).reset_index(drop = True)\n",
    "DDs = pd.concat(DD).sort_values([\"State\",\"Date\"]).reset_index(drop = True)"
   ]
  },
  {
   "cell_type": "code",
   "execution_count": 55,
   "id": "mediterranean-session",
   "metadata": {},
   "outputs": [
    {
     "data": {
      "text/html": [
       "<div>\n",
       "<style scoped>\n",
       "    .dataframe tbody tr th:only-of-type {\n",
       "        vertical-align: middle;\n",
       "    }\n",
       "\n",
       "    .dataframe tbody tr th {\n",
       "        vertical-align: top;\n",
       "    }\n",
       "\n",
       "    .dataframe thead th {\n",
       "        text-align: right;\n",
       "    }\n",
       "</style>\n",
       "<table border=\"1\" class=\"dataframe\">\n",
       "  <thead>\n",
       "    <tr style=\"text-align: right;\">\n",
       "      <th></th>\n",
       "      <th>State</th>\n",
       "      <th>Date</th>\n",
       "      <th>New Deaths</th>\n",
       "    </tr>\n",
       "  </thead>\n",
       "  <tbody>\n",
       "    <tr>\n",
       "      <th>0</th>\n",
       "      <td>Alabama</td>\n",
       "      <td>Apr  1 2020</td>\n",
       "      <td>7</td>\n",
       "    </tr>\n",
       "    <tr>\n",
       "      <th>1</th>\n",
       "      <td>Alabama</td>\n",
       "      <td>Apr  1 2021</td>\n",
       "      <td>11</td>\n",
       "    </tr>\n",
       "    <tr>\n",
       "      <th>2</th>\n",
       "      <td>Alabama</td>\n",
       "      <td>Apr  2 2020</td>\n",
       "      <td>3</td>\n",
       "    </tr>\n",
       "    <tr>\n",
       "      <th>3</th>\n",
       "      <td>Alabama</td>\n",
       "      <td>Apr  2 2021</td>\n",
       "      <td>7</td>\n",
       "    </tr>\n",
       "    <tr>\n",
       "      <th>4</th>\n",
       "      <td>Alabama</td>\n",
       "      <td>Apr  3 2020</td>\n",
       "      <td>8</td>\n",
       "    </tr>\n",
       "  </tbody>\n",
       "</table>\n",
       "</div>"
      ],
      "text/plain": [
       "     State         Date  New Deaths\n",
       "0  Alabama  Apr  1 2020           7\n",
       "1  Alabama  Apr  1 2021          11\n",
       "2  Alabama  Apr  2 2020           3\n",
       "3  Alabama  Apr  2 2021           7\n",
       "4  Alabama  Apr  3 2020           8"
      ]
     },
     "execution_count": 55,
     "metadata": {},
     "output_type": "execute_result"
    }
   ],
   "source": [
    "DDs.head()"
   ]
  },
  {
   "cell_type": "code",
   "execution_count": 56,
   "id": "improved-yesterday",
   "metadata": {},
   "outputs": [
    {
     "data": {
      "text/html": [
       "<div>\n",
       "<style scoped>\n",
       "    .dataframe tbody tr th:only-of-type {\n",
       "        vertical-align: middle;\n",
       "    }\n",
       "\n",
       "    .dataframe tbody tr th {\n",
       "        vertical-align: top;\n",
       "    }\n",
       "\n",
       "    .dataframe thead th {\n",
       "        text-align: right;\n",
       "    }\n",
       "</style>\n",
       "<table border=\"1\" class=\"dataframe\">\n",
       "  <thead>\n",
       "    <tr style=\"text-align: right;\">\n",
       "      <th></th>\n",
       "      <th>State</th>\n",
       "      <th>Date</th>\n",
       "      <th>New Cases</th>\n",
       "    </tr>\n",
       "  </thead>\n",
       "  <tbody>\n",
       "    <tr>\n",
       "      <th>0</th>\n",
       "      <td>Alabama</td>\n",
       "      <td>Apr  1 2020</td>\n",
       "      <td>112</td>\n",
       "    </tr>\n",
       "    <tr>\n",
       "      <th>1</th>\n",
       "      <td>Alabama</td>\n",
       "      <td>Apr  1 2021</td>\n",
       "      <td>440</td>\n",
       "    </tr>\n",
       "    <tr>\n",
       "      <th>2</th>\n",
       "      <td>Alabama</td>\n",
       "      <td>Apr  2 2020</td>\n",
       "      <td>196</td>\n",
       "    </tr>\n",
       "    <tr>\n",
       "      <th>3</th>\n",
       "      <td>Alabama</td>\n",
       "      <td>Apr  2 2021</td>\n",
       "      <td>355</td>\n",
       "    </tr>\n",
       "    <tr>\n",
       "      <th>4</th>\n",
       "      <td>Alabama</td>\n",
       "      <td>Apr  3 2020</td>\n",
       "      <td>235</td>\n",
       "    </tr>\n",
       "  </tbody>\n",
       "</table>\n",
       "</div>"
      ],
      "text/plain": [
       "     State         Date  New Cases\n",
       "0  Alabama  Apr  1 2020        112\n",
       "1  Alabama  Apr  1 2021        440\n",
       "2  Alabama  Apr  2 2020        196\n",
       "3  Alabama  Apr  2 2021        355\n",
       "4  Alabama  Apr  3 2020        235"
      ]
     },
     "execution_count": 56,
     "metadata": {},
     "output_type": "execute_result"
    }
   ],
   "source": [
    "DCs.head()"
   ]
  },
  {
   "cell_type": "code",
   "execution_count": 41,
   "id": "mineral-cosmetic",
   "metadata": {},
   "outputs": [],
   "source": [
    "# Combine both\n",
    "COVID = pd.concat([DCs, DDs[\"New Deaths\"]], axis = 1)"
   ]
  },
  {
   "cell_type": "code",
   "execution_count": 54,
   "id": "aware-packet",
   "metadata": {},
   "outputs": [
    {
     "data": {
      "text/html": [
       "<div>\n",
       "<style scoped>\n",
       "    .dataframe tbody tr th:only-of-type {\n",
       "        vertical-align: middle;\n",
       "    }\n",
       "\n",
       "    .dataframe tbody tr th {\n",
       "        vertical-align: top;\n",
       "    }\n",
       "\n",
       "    .dataframe thead th {\n",
       "        text-align: right;\n",
       "    }\n",
       "</style>\n",
       "<table border=\"1\" class=\"dataframe\">\n",
       "  <thead>\n",
       "    <tr style=\"text-align: right;\">\n",
       "      <th></th>\n",
       "      <th>State</th>\n",
       "      <th>Date</th>\n",
       "      <th>New Cases</th>\n",
       "      <th>New Deaths</th>\n",
       "    </tr>\n",
       "  </thead>\n",
       "  <tbody>\n",
       "    <tr>\n",
       "      <th>0</th>\n",
       "      <td>Alabama</td>\n",
       "      <td>Apr  1 2020</td>\n",
       "      <td>112</td>\n",
       "      <td>7</td>\n",
       "    </tr>\n",
       "    <tr>\n",
       "      <th>1</th>\n",
       "      <td>Alabama</td>\n",
       "      <td>Apr  1 2021</td>\n",
       "      <td>440</td>\n",
       "      <td>11</td>\n",
       "    </tr>\n",
       "    <tr>\n",
       "      <th>2</th>\n",
       "      <td>Alabama</td>\n",
       "      <td>Apr  2 2020</td>\n",
       "      <td>196</td>\n",
       "      <td>3</td>\n",
       "    </tr>\n",
       "    <tr>\n",
       "      <th>3</th>\n",
       "      <td>Alabama</td>\n",
       "      <td>Apr  2 2021</td>\n",
       "      <td>355</td>\n",
       "      <td>7</td>\n",
       "    </tr>\n",
       "    <tr>\n",
       "      <th>4</th>\n",
       "      <td>Alabama</td>\n",
       "      <td>Apr  3 2020</td>\n",
       "      <td>235</td>\n",
       "      <td>8</td>\n",
       "    </tr>\n",
       "  </tbody>\n",
       "</table>\n",
       "</div>"
      ],
      "text/plain": [
       "     State         Date  New Cases  New Deaths\n",
       "0  Alabama  Apr  1 2020        112           7\n",
       "1  Alabama  Apr  1 2021        440          11\n",
       "2  Alabama  Apr  2 2020        196           3\n",
       "3  Alabama  Apr  2 2021        355           7\n",
       "4  Alabama  Apr  3 2020        235           8"
      ]
     },
     "execution_count": 54,
     "metadata": {},
     "output_type": "execute_result"
    }
   ],
   "source": [
    "COVID.head()"
   ]
  },
  {
   "cell_type": "code",
   "execution_count": 52,
   "id": "awful-meditation",
   "metadata": {},
   "outputs": [],
   "source": [
    "# Convert Date format\n",
    "def mdy_to_ymd(d):\n",
    "    return datetime.strptime(d, '%b  %d %Y').strftime('%Y-%m-%d')"
   ]
  },
  {
   "cell_type": "code",
   "execution_count": 59,
   "id": "consistent-fancy",
   "metadata": {},
   "outputs": [
    {
     "name": "stderr",
     "output_type": "stream",
     "text": [
      "/opt/conda/lib/python3.7/site-packages/ipykernel_launcher.py:2: SettingWithCopyWarning: \n",
      "A value is trying to be set on a copy of a slice from a DataFrame\n",
      "\n",
      "See the caveats in the documentation: https://pandas.pydata.org/pandas-docs/stable/user_guide/indexing.html#returning-a-view-versus-a-copy\n",
      "  \n"
     ]
    }
   ],
   "source": [
    "for i in range(len(COVID[\"Date\"])):\n",
    "     COVID[\"Date\"][i] = mdy_to_ymd(COVID[\"Date\"][i])"
   ]
  },
  {
   "cell_type": "code",
   "execution_count": 65,
   "id": "little-thermal",
   "metadata": {},
   "outputs": [],
   "source": [
    "# Sort value and reset index\n",
    "COVID = COVID.sort_values([\"State\", \"Date\"]).reset_index(drop = True)"
   ]
  },
  {
   "cell_type": "code",
   "execution_count": 66,
   "id": "developed-municipality",
   "metadata": {},
   "outputs": [
    {
     "data": {
      "text/html": [
       "<div>\n",
       "<style scoped>\n",
       "    .dataframe tbody tr th:only-of-type {\n",
       "        vertical-align: middle;\n",
       "    }\n",
       "\n",
       "    .dataframe tbody tr th {\n",
       "        vertical-align: top;\n",
       "    }\n",
       "\n",
       "    .dataframe thead th {\n",
       "        text-align: right;\n",
       "    }\n",
       "</style>\n",
       "<table border=\"1\" class=\"dataframe\">\n",
       "  <thead>\n",
       "    <tr style=\"text-align: right;\">\n",
       "      <th></th>\n",
       "      <th>State</th>\n",
       "      <th>Date</th>\n",
       "      <th>New Cases</th>\n",
       "      <th>New Deaths</th>\n",
       "    </tr>\n",
       "  </thead>\n",
       "  <tbody>\n",
       "    <tr>\n",
       "      <th>0</th>\n",
       "      <td>Alabama</td>\n",
       "      <td>2020-01-23</td>\n",
       "      <td>0</td>\n",
       "      <td>0</td>\n",
       "    </tr>\n",
       "    <tr>\n",
       "      <th>1</th>\n",
       "      <td>Alabama</td>\n",
       "      <td>2020-01-24</td>\n",
       "      <td>0</td>\n",
       "      <td>0</td>\n",
       "    </tr>\n",
       "    <tr>\n",
       "      <th>2</th>\n",
       "      <td>Alabama</td>\n",
       "      <td>2020-01-25</td>\n",
       "      <td>0</td>\n",
       "      <td>0</td>\n",
       "    </tr>\n",
       "    <tr>\n",
       "      <th>3</th>\n",
       "      <td>Alabama</td>\n",
       "      <td>2020-01-26</td>\n",
       "      <td>0</td>\n",
       "      <td>0</td>\n",
       "    </tr>\n",
       "    <tr>\n",
       "      <th>4</th>\n",
       "      <td>Alabama</td>\n",
       "      <td>2020-01-27</td>\n",
       "      <td>0</td>\n",
       "      <td>0</td>\n",
       "    </tr>\n",
       "    <tr>\n",
       "      <th>...</th>\n",
       "      <td>...</td>\n",
       "      <td>...</td>\n",
       "      <td>...</td>\n",
       "      <td>...</td>\n",
       "    </tr>\n",
       "    <tr>\n",
       "      <th>38275</th>\n",
       "      <td>Wyoming</td>\n",
       "      <td>2021-11-08</td>\n",
       "      <td>672</td>\n",
       "      <td>0</td>\n",
       "    </tr>\n",
       "    <tr>\n",
       "      <th>38276</th>\n",
       "      <td>Wyoming</td>\n",
       "      <td>2021-11-09</td>\n",
       "      <td>297</td>\n",
       "      <td>55</td>\n",
       "    </tr>\n",
       "    <tr>\n",
       "      <th>38277</th>\n",
       "      <td>Wyoming</td>\n",
       "      <td>2021-11-10</td>\n",
       "      <td>411</td>\n",
       "      <td>0</td>\n",
       "    </tr>\n",
       "    <tr>\n",
       "      <th>38278</th>\n",
       "      <td>Wyoming</td>\n",
       "      <td>2021-11-11</td>\n",
       "      <td>0</td>\n",
       "      <td>0</td>\n",
       "    </tr>\n",
       "    <tr>\n",
       "      <th>38279</th>\n",
       "      <td>Wyoming</td>\n",
       "      <td>2021-11-12</td>\n",
       "      <td>785</td>\n",
       "      <td>0</td>\n",
       "    </tr>\n",
       "  </tbody>\n",
       "</table>\n",
       "<p>38280 rows × 4 columns</p>\n",
       "</div>"
      ],
      "text/plain": [
       "         State        Date  New Cases  New Deaths\n",
       "0      Alabama  2020-01-23          0           0\n",
       "1      Alabama  2020-01-24          0           0\n",
       "2      Alabama  2020-01-25          0           0\n",
       "3      Alabama  2020-01-26          0           0\n",
       "4      Alabama  2020-01-27          0           0\n",
       "...        ...         ...        ...         ...\n",
       "38275  Wyoming  2021-11-08        672           0\n",
       "38276  Wyoming  2021-11-09        297          55\n",
       "38277  Wyoming  2021-11-10        411           0\n",
       "38278  Wyoming  2021-11-11          0           0\n",
       "38279  Wyoming  2021-11-12        785           0\n",
       "\n",
       "[38280 rows x 4 columns]"
      ]
     },
     "execution_count": 66,
     "metadata": {},
     "output_type": "execute_result"
    }
   ],
   "source": [
    "COVID"
   ]
  },
  {
   "cell_type": "code",
   "execution_count": 67,
   "id": "horizontal-brighton",
   "metadata": {},
   "outputs": [],
   "source": [
    "# Save it\n",
    "COVID.to_csv(r'COVID.csv')"
   ]
  }
 ],
 "metadata": {
  "kernelspec": {
   "display_name": "Python 3",
   "language": "python",
   "name": "python3"
  },
  "language_info": {
   "codemirror_mode": {
    "name": "ipython",
    "version": 3
   },
   "file_extension": ".py",
   "mimetype": "text/x-python",
   "name": "python",
   "nbconvert_exporter": "python",
   "pygments_lexer": "ipython3",
   "version": "3.7.9"
  }
 },
 "nbformat": 4,
 "nbformat_minor": 5
}
